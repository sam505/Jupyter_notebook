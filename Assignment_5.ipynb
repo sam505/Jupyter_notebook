{
  "nbformat": 4,
  "nbformat_minor": 0,
  "metadata": {
    "kernelspec": {
      "display_name": "Python 3",
      "language": "python",
      "name": "python3"
    },
    "language_info": {
      "codemirror_mode": {
        "name": "ipython",
        "version": 3
      },
      "file_extension": ".py",
      "mimetype": "text/x-python",
      "name": "python",
      "nbconvert_exporter": "python",
      "pygments_lexer": "ipython3",
      "version": "3.8.3"
    },
    "toc": {
      "base_numbering": 1,
      "nav_menu": {},
      "number_sections": true,
      "sideBar": true,
      "skip_h1_title": false,
      "title_cell": "Table of Contents",
      "title_sidebar": "Contents",
      "toc_cell": false,
      "toc_position": {
        "height": "calc(100% - 180px)",
        "left": "10px",
        "top": "150px",
        "width": "284.433px"
      },
      "toc_section_display": true,
      "toc_window_display": true
    },
    "colab": {
      "name": "Assignment_5.ipynb",
      "provenance": [],
      "include_colab_link": true
    }
  },
  "cells": [
    {
      "cell_type": "markdown",
      "metadata": {
        "id": "view-in-github",
        "colab_type": "text"
      },
      "source": [
        "<a href=\"https://colab.research.google.com/github/sam505/Jupyter_notebook/blob/master/Assignment_5.ipynb\" target=\"_parent\"><img src=\"https://colab.research.google.com/assets/colab-badge.svg\" alt=\"Open In Colab\"/></a>"
      ]
    },
    {
      "cell_type": "markdown",
      "metadata": {
        "id": "F3HZW9WO4duG"
      },
      "source": [
        "## Assignment ##\n",
        "\n",
        "**You should update the path below**\n",
        "\n",
        "import pandas as pd\n",
        "<br>\n",
        "pathCSV = r'C:\\Users\\f_sohnoume\\OneDrive - UNCG\\f_sohnoume (faculty)\\Spring 2021\\ISM210\\Resources\\Week 7\\hashtag_joebiden.csv'\n",
        "<br>\n",
        "electionsBidenTweetsData = pd.read_csv(pathCSV)\n",
        "<br>\n",
        "electionsBidenTweetsData\n",
        "<br>\n",
        "\n",
        "\n",
        "* Return the rows with at least one missing value (5 pts)\n",
        "<br>\n",
        "* Return the number of rows with at least one missing value (3.75 pts)\n",
        "<br>\n",
        "* Return the rows that contain zero missing values (5 pts)\n",
        "<br>\n",
        "* Return the number of rows that contain zero missing values (3.75 pts)\n",
        "<br>\n",
        "* Return dataFrame with only the columns that have zero null values (5 pts)\n",
        "<br>\n",
        "* Return the number of columns that have zero null values (3.75 pts)\n",
        "<br>\n",
        "* Return dataFrame with only the columns that have at least one null value (5 pts)\n",
        "<br>\n",
        "* Return the number of columns that have at least one null value (3.75 pts)\n",
        "<br>\n",
        "* Drop the rows where all elements are missing (5 pts)\n",
        "<br>\n",
        "* Drop the rows where there are at least one missing values in the columns tweet_id and user_id (5 pts)\n",
        "<br>\n",
        "* Fill missing values of columns likes, retweet_count and user_followers_count with zero (5 pts)\n",
        "<br>\n",
        "* Delete duplicates based on the columns tweet and user_id (5 pts)\n",
        "<br>\n",
        "* In the column *source*, replace \"Twitter for iPad\", \"Twitter for iPhone\" and \"Twitter Web App\" with \"Twitter\" (5 pts)\n",
        "<br>\n",
        "* Calculate two bins of the column retweet_count. You can use min, mean, and max following the example in the lecture (5 pts)\n",
        "<br>\n",
        "* Count the number elements in each bin (5 pts)\n",
        "<br>\n",
        "* Calculate the mean and standard deviation of the column *retweet_count* (5 pts)\n",
        "<br>\n",
        "* Return all the outliers. We define an outlier = row that has a retweet_count greater than (mean + 3 * standard deviation) (5 pts)\n"
      ]
    },
    {
      "cell_type": "code",
      "metadata": {
        "colab": {
          "base_uri": "https://localhost:8080/"
        },
        "id": "4lpPxoRv6uSf",
        "outputId": "dd9c9b98-c154-4cd8-a2b2-a21c4011d33a"
      },
      "source": [
        "from google.colab import drive\n",
        "drive.mount('/content/drive')"
      ],
      "execution_count": 1,
      "outputs": [
        {
          "output_type": "stream",
          "name": "stdout",
          "text": [
            "Mounted at /content/drive\n"
          ]
        }
      ]
    },
    {
      "cell_type": "code",
      "metadata": {
        "id": "c2jj3YUb4duL",
        "outputId": "241df854-7383-4726-933b-b2f0b1c595bc"
      },
      "source": [
        "import pandas as pd\n",
        "pathCSV = r\"/content/drive/MyDrive/ISM210/hashtag_joebiden.csv\"\n",
        "electionsBidenTweetsData = pd.read_csv(pathCSV)\n",
        "electionsBidenTweetsData"
      ],
      "execution_count": null,
      "outputs": [
        {
          "data": {
            "text/plain": [
              "Index(['created_at', 'tweet_id', 'tweet', 'likes', 'retweet_count', 'source',\n",
              "       'user_id', 'user_name', 'user_screen_name', 'user_description',\n",
              "       'user_join_date', 'user_followers_count', 'user_location', 'lat',\n",
              "       'long', 'city', 'country', 'continent', 'state', 'state_code',\n",
              "       'collected_at'],\n",
              "      dtype='object')"
            ]
          },
          "execution_count": 4,
          "metadata": {},
          "output_type": "execute_result"
        }
      ]
    }
  ]
}