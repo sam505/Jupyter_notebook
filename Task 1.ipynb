{
 "cells": [
  {
   "cell_type": "code",
   "execution_count": 1,
   "metadata": {},
   "outputs": [],
   "source": [
    "import pandas as pd"
   ]
  },
  {
   "cell_type": "code",
   "execution_count": 2,
   "metadata": {},
   "outputs": [
    {
     "data": {
      "text/html": [
       "<div>\n",
       "<style scoped>\n",
       "    .dataframe tbody tr th:only-of-type {\n",
       "        vertical-align: middle;\n",
       "    }\n",
       "\n",
       "    .dataframe tbody tr th {\n",
       "        vertical-align: top;\n",
       "    }\n",
       "\n",
       "    .dataframe thead th {\n",
       "        text-align: right;\n",
       "    }\n",
       "</style>\n",
       "<table border=\"1\" class=\"dataframe\">\n",
       "  <thead>\n",
       "    <tr style=\"text-align: right;\">\n",
       "      <th></th>\n",
       "      <th>0</th>\n",
       "      <th>1</th>\n",
       "      <th>2</th>\n",
       "      <th>3</th>\n",
       "      <th>4</th>\n",
       "      <th>5</th>\n",
       "      <th>6</th>\n",
       "    </tr>\n",
       "  </thead>\n",
       "  <tbody>\n",
       "    <tr>\n",
       "      <th>0</th>\n",
       "      <td>William</td>\n",
       "      <td>30</td>\n",
       "      <td>Normal</td>\n",
       "      <td>37.0</td>\n",
       "      <td>N</td>\n",
       "      <td>N</td>\n",
       "      <td>N</td>\n",
       "    </tr>\n",
       "    <tr>\n",
       "      <th>1</th>\n",
       "      <td>James</td>\n",
       "      <td>25</td>\n",
       "      <td>Small</td>\n",
       "      <td>36.8</td>\n",
       "      <td>Y</td>\n",
       "      <td>N</td>\n",
       "      <td>N</td>\n",
       "    </tr>\n",
       "    <tr>\n",
       "      <th>2</th>\n",
       "      <td>Harper</td>\n",
       "      <td>21</td>\n",
       "      <td>Normal</td>\n",
       "      <td>36.2</td>\n",
       "      <td>Y</td>\n",
       "      <td>N</td>\n",
       "      <td>N</td>\n",
       "    </tr>\n",
       "    <tr>\n",
       "      <th>3</th>\n",
       "      <td>Mason</td>\n",
       "      <td>33</td>\n",
       "      <td>Normal</td>\n",
       "      <td>36.1</td>\n",
       "      <td>N</td>\n",
       "      <td>Y</td>\n",
       "      <td>N</td>\n",
       "    </tr>\n",
       "    <tr>\n",
       "      <th>4</th>\n",
       "      <td>Ella</td>\n",
       "      <td>30</td>\n",
       "      <td>Small</td>\n",
       "      <td>38.0</td>\n",
       "      <td>N</td>\n",
       "      <td>Y</td>\n",
       "      <td>N</td>\n",
       "    </tr>\n",
       "  </tbody>\n",
       "</table>\n",
       "</div>"
      ],
      "text/plain": [
       "         0   1       2     3  4  5  6\n",
       "0  William  30  Normal  37.0  N  N  N\n",
       "1    James  25   Small  36.8  Y  N  N\n",
       "2   Harper  21  Normal  36.2  Y  N  N\n",
       "3    Mason  33  Normal  36.1  N  Y  N\n",
       "4     Ella  30   Small  38.0  N  Y  N"
      ]
     },
     "execution_count": 2,
     "metadata": {},
     "output_type": "execute_result"
    }
   ],
   "source": [
    "df = pd.read_csv(\"Assignment_data_input.csv\", header=None) # Read csv file\n",
    "df.head() # print out the first five items in the csv file\n",
    "        "
   ]
  },
  {
   "cell_type": "code",
   "execution_count": 3,
   "metadata": {},
   "outputs": [],
   "source": [
    "name_new = []\n",
    "weight_new = []\n",
    "size_new = []\n",
    "temperature_new = []\n",
    "dry_cough_new = []\n",
    "sore_throat_new = []\n",
    "resp_problems_new = []\n",
    "# creating dictionary for the infected passengers csv file\n",
    "data = {0: name_new, 1: weight_new, 2: size_new, 3: temperature_new, 4: dry_cough_new, 5:sore_throat_new, \n",
    "        6:resp_problems_new}\n",
    "temperature = df[3] # access items in the 4th column\n",
    "cough = df[4] # access items in the 5th column\n",
    "sore_throat = df[5] # access items in the 6th column\n",
    "resp_problems = df[6] # access items in the 7th column"
   ]
  },
  {
   "cell_type": "code",
   "execution_count": 4,
   "metadata": {},
   "outputs": [],
   "source": [
    "def check_temperature(temp):\n",
    "    count = 0\n",
    "    for _ in temp:\n",
    "        if not 36 <= _ <= 37: # check if temperature is within the allowed range\n",
    "            check_other_symptoms(count) # if not call the check_other_symptoms funtion to check the other symptoms\n",
    "        count += 1\n",
    "    return None\n",
    "\n",
    "def check_other_symptoms(count):\n",
    "    if (cough[count] == 'Y' and sore_throat[count] == 'Y') or \\\n",
    "    (resp_problems[count] == 'Y' and sore_throat[count] == 'Y') or \\\n",
    "    (cough[count] == 'Y' and resp_problems[count] == 'Y'): # checking for other symptoms  \n",
    "        # and if any of the two is Y add the details to the new csv file\n",
    "        name_new.append(df[0][count])\n",
    "        weight_new.append(df[1][count])\n",
    "        size_new.append(df[2][count])\n",
    "        temperature_new.append(df[3][count])\n",
    "        dry_cough_new.append(df[4][count])\n",
    "        sore_throat_new.append(df[5][count])\n",
    "        resp_problems_new.append(df[6][count])\n",
    "    return None\n"
   ]
  },
  {
   "cell_type": "code",
   "execution_count": 5,
   "metadata": {},
   "outputs": [],
   "source": [
    "check_temperature(temperature) # calling the function to check for temperature"
   ]
  },
  {
   "cell_type": "code",
   "execution_count": 6,
   "metadata": {},
   "outputs": [
    {
     "name": "stdout",
     "output_type": "stream",
     "text": [
      "21\n",
      "21\n",
      "21\n",
      "21\n",
      "21\n",
      "21\n",
      "21\n"
     ]
    }
   ],
   "source": [
    "print(len(name_new))\n",
    "print(len(weight_new))\n",
    "print(len(size_new))\n",
    "print(len(temperature_new))\n",
    "print(len(dry_cough_new))\n",
    "print(len(sore_throat_new))\n",
    "print(len(resp_problems_new))\n",
    "\n",
    "#adding the items to the csv\n",
    "info = pd.DataFrame(data) \n",
    "info.to_csv('Vaccine.csv', header=None, index=False)"
   ]
  },
  {
   "cell_type": "code",
   "execution_count": 7,
   "metadata": {},
   "outputs": [
    {
     "data": {
      "text/html": [
       "<div>\n",
       "<style scoped>\n",
       "    .dataframe tbody tr th:only-of-type {\n",
       "        vertical-align: middle;\n",
       "    }\n",
       "\n",
       "    .dataframe tbody tr th {\n",
       "        vertical-align: top;\n",
       "    }\n",
       "\n",
       "    .dataframe thead th {\n",
       "        text-align: right;\n",
       "    }\n",
       "</style>\n",
       "<table border=\"1\" class=\"dataframe\">\n",
       "  <thead>\n",
       "    <tr style=\"text-align: right;\">\n",
       "      <th></th>\n",
       "      <th>0</th>\n",
       "      <th>1</th>\n",
       "      <th>2</th>\n",
       "      <th>3</th>\n",
       "      <th>4</th>\n",
       "      <th>5</th>\n",
       "      <th>6</th>\n",
       "    </tr>\n",
       "  </thead>\n",
       "  <tbody>\n",
       "    <tr>\n",
       "      <th>16</th>\n",
       "      <td>Lola</td>\n",
       "      <td>30</td>\n",
       "      <td>Small</td>\n",
       "      <td>37.5</td>\n",
       "      <td>Y</td>\n",
       "      <td>N</td>\n",
       "      <td>Y</td>\n",
       "    </tr>\n",
       "    <tr>\n",
       "      <th>17</th>\n",
       "      <td>Cooper</td>\n",
       "      <td>5</td>\n",
       "      <td>Very Small</td>\n",
       "      <td>38.0</td>\n",
       "      <td>Y</td>\n",
       "      <td>N</td>\n",
       "      <td>Y</td>\n",
       "    </tr>\n",
       "    <tr>\n",
       "      <th>18</th>\n",
       "      <td>Charlie</td>\n",
       "      <td>58</td>\n",
       "      <td>Big</td>\n",
       "      <td>39.2</td>\n",
       "      <td>N</td>\n",
       "      <td>Y</td>\n",
       "      <td>Y</td>\n",
       "    </tr>\n",
       "    <tr>\n",
       "      <th>19</th>\n",
       "      <td>Edward</td>\n",
       "      <td>30</td>\n",
       "      <td>Big</td>\n",
       "      <td>39.0</td>\n",
       "      <td>Y</td>\n",
       "      <td>N</td>\n",
       "      <td>Y</td>\n",
       "    </tr>\n",
       "    <tr>\n",
       "      <th>20</th>\n",
       "      <td>Flynn</td>\n",
       "      <td>54</td>\n",
       "      <td>Big</td>\n",
       "      <td>39.2</td>\n",
       "      <td>Y</td>\n",
       "      <td>Y</td>\n",
       "      <td>N</td>\n",
       "    </tr>\n",
       "  </tbody>\n",
       "</table>\n",
       "</div>"
      ],
      "text/plain": [
       "          0   1           2     3  4  5  6\n",
       "16     Lola  30       Small  37.5  Y  N  Y\n",
       "17   Cooper   5  Very Small  38.0  Y  N  Y\n",
       "18  Charlie  58         Big  39.2  N  Y  Y\n",
       "19   Edward  30         Big  39.0  Y  N  Y\n",
       "20    Flynn  54         Big  39.2  Y  Y  N"
      ]
     },
     "execution_count": 7,
     "metadata": {},
     "output_type": "execute_result"
    }
   ],
   "source": [
    "results = pd.read_csv('Vaccine.csv', header=None)\n",
    "results.tail() # Display the last 5 items in the csv file"
   ]
  },
  {
   "cell_type": "code",
   "execution_count": 8,
   "metadata": {},
   "outputs": [
    {
     "name": "stdout",
     "output_type": "stream",
     "text": [
      "The number of infected passengers is 21\n"
     ]
    }
   ],
   "source": [
    "# print out the number of infected passengers\n",
    "print('The number of infected passengers is {}'.format(len(name_new)))"
   ]
  },
  {
   "cell_type": "code",
   "execution_count": null,
   "metadata": {},
   "outputs": [],
   "source": []
  }
 ],
 "metadata": {
  "kernelspec": {
   "display_name": "Python 3",
   "language": "python",
   "name": "python3"
  },
  "language_info": {
   "codemirror_mode": {
    "name": "ipython",
    "version": 3
   },
   "file_extension": ".py",
   "mimetype": "text/x-python",
   "name": "python",
   "nbconvert_exporter": "python",
   "pygments_lexer": "ipython3",
   "version": "3.7.6"
  }
 },
 "nbformat": 4,
 "nbformat_minor": 4
}
