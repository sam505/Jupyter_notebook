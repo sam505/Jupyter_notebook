{
  "nbformat": 4,
  "nbformat_minor": 5,
  "metadata": {
    "kernelspec": {
      "display_name": "Python 3",
      "language": "python",
      "name": "python3"
    },
    "language_info": {
      "codemirror_mode": {
        "name": "ipython",
        "version": 3
      },
      "file_extension": ".py",
      "mimetype": "text/x-python",
      "name": "python",
      "nbconvert_exporter": "python",
      "pygments_lexer": "ipython3",
      "version": "3.7.9"
    },
    "colab": {
      "name": "Taona_gaze_estimation.ipynb",
      "provenance": [],
      "toc_visible": true,
      "include_colab_link": true
    }
  },
  "cells": [
    {
      "cell_type": "markdown",
      "metadata": {
        "id": "view-in-github",
        "colab_type": "text"
      },
      "source": [
        "<a href=\"https://colab.research.google.com/github/sam505/Jupyter_notebook/blob/master/Taona_gaze_estimation.ipynb\" target=\"_parent\"><img src=\"https://colab.research.google.com/assets/colab-badge.svg\" alt=\"Open In Colab\"/></a>"
      ]
    },
    {
      "cell_type": "code",
      "metadata": {
        "id": "furnished-verification"
      },
      "source": [
        "import tensorflow as tf\n",
        "import cv2\n",
        "import os"
      ],
      "id": "furnished-verification",
      "execution_count": 14,
      "outputs": []
    },
    {
      "cell_type": "code",
      "metadata": {
        "id": "traditional-friendly"
      },
      "source": [
        "PATH = \"/home/maina/Documents/Dataset/MPIIGaze\""
      ],
      "id": "traditional-friendly",
      "execution_count": null,
      "outputs": []
    },
    {
      "cell_type": "code",
      "metadata": {
        "id": "lesbian-acceptance",
        "outputId": "b01b987a-aa6d-463c-a2a4-49af25e3e090"
      },
      "source": [
        "for folder in os.listdir(PATH):\n",
        "    try:\n",
        "        for m in os.listdir(PATH + \"/\"+ folder):\n",
        "            #text_file = open(\"/home/maina/Documents/Dataset/MPIIGaze/ReadMe.txt\")\n",
        "            print(m)\n",
        "    except NotADirectoryError:\n",
        "        pass"
      ],
      "id": "lesbian-acceptance",
      "execution_count": null,
      "outputs": [
        {
          "output_type": "stream",
          "text": [
            "Data\n",
            "Annotation Subset\n",
            "ReadMe.txt\n",
            "Evaluation Subset\n",
            "p07\n",
            "p04\n",
            "p03\n",
            "p10\n",
            "p06\n",
            "p08\n",
            "p00\n",
            "p05\n",
            "p13\n",
            "p14\n",
            "p02\n",
            "p01\n",
            "p11\n",
            "p09\n",
            "p12\n",
            "p07\n",
            "p04\n",
            "p03\n",
            "p10\n",
            "p06\n",
            "p08\n",
            "p00\n",
            "p05\n",
            "p13\n",
            "p14\n",
            "p02\n",
            "p01\n",
            "p11\n",
            "p09\n",
            "p12\n",
            "Data\n",
            "Annotation Subset\n",
            "6 points-based face model.mat\n",
            "ReadMe.txt\n",
            "Evaluation Subset\n"
          ],
          "name": "stdout"
        }
      ]
    },
    {
      "cell_type": "markdown",
      "metadata": {
        "id": "sporting-trademark"
      },
      "source": [
        ""
      ],
      "id": "sporting-trademark"
    },
    {
      "cell_type": "code",
      "metadata": {
        "id": "described-status"
      },
      "source": [
        "import tensorflow as tf\n",
        "import numpy as np\n",
        "import cv2\n",
        "import matplotlib.pyplot as plt\n"
      ],
      "id": "described-status",
      "execution_count": 6,
      "outputs": []
    },
    {
      "cell_type": "code",
      "metadata": {
        "colab": {
          "base_uri": "https://localhost:8080/",
          "height": 129
        },
        "id": "0bSau0Du47h9",
        "outputId": "5ee7869b-b351-40fc-a6ea-e911f9463180"
      },
      "source": [
        "kaggle datasets download -d 4quant/eye-gaze"
      ],
      "id": "0bSau0Du47h9",
      "execution_count": 9,
      "outputs": [
        {
          "output_type": "error",
          "ename": "SyntaxError",
          "evalue": "ignored",
          "traceback": [
            "\u001b[0;36m  File \u001b[0;32m\"<ipython-input-9-931048e96b46>\"\u001b[0;36m, line \u001b[0;32m1\u001b[0m\n\u001b[0;31m    kaggle datasets download -d 4quant/eye-gaze\u001b[0m\n\u001b[0m                  ^\u001b[0m\n\u001b[0;31mSyntaxError\u001b[0m\u001b[0;31m:\u001b[0m invalid syntax\n"
          ]
        }
      ]
    },
    {
      "cell_type": "code",
      "metadata": {
        "colab": {
          "base_uri": "https://localhost:8080/",
          "height": 387
        },
        "id": "A2mWTDii6xDm",
        "outputId": "4b114a60-1d9f-4c62-8b8e-e155691df04a"
      },
      "source": [
        "!pip install kaggle --upgrade\n",
        "kaggle --version"
      ],
      "id": "A2mWTDii6xDm",
      "execution_count": 12,
      "outputs": [
        {
          "output_type": "stream",
          "text": [
            "Requirement already up-to-date: kaggle in /usr/local/lib/python3.6/dist-packages (1.5.10)\n",
            "Requirement already satisfied, skipping upgrade: tqdm in /usr/local/lib/python3.6/dist-packages (from kaggle) (4.41.1)\n",
            "Requirement already satisfied, skipping upgrade: six>=1.10 in /usr/local/lib/python3.6/dist-packages (from kaggle) (1.15.0)\n",
            "Requirement already satisfied, skipping upgrade: urllib3 in /usr/local/lib/python3.6/dist-packages (from kaggle) (1.24.3)\n",
            "Requirement already satisfied, skipping upgrade: requests in /usr/local/lib/python3.6/dist-packages (from kaggle) (2.23.0)\n",
            "Requirement already satisfied, skipping upgrade: python-slugify in /usr/local/lib/python3.6/dist-packages (from kaggle) (4.0.1)\n",
            "Requirement already satisfied, skipping upgrade: certifi in /usr/local/lib/python3.6/dist-packages (from kaggle) (2020.12.5)\n",
            "Requirement already satisfied, skipping upgrade: python-dateutil in /usr/local/lib/python3.6/dist-packages (from kaggle) (2.8.1)\n",
            "Requirement already satisfied, skipping upgrade: idna<3,>=2.5 in /usr/local/lib/python3.6/dist-packages (from requests->kaggle) (2.10)\n",
            "Requirement already satisfied, skipping upgrade: chardet<4,>=3.0.2 in /usr/local/lib/python3.6/dist-packages (from requests->kaggle) (3.0.4)\n",
            "Requirement already satisfied, skipping upgrade: text-unidecode>=1.3 in /usr/local/lib/python3.6/dist-packages (from python-slugify->kaggle) (1.3)\n"
          ],
          "name": "stdout"
        },
        {
          "output_type": "error",
          "ename": "NameError",
          "evalue": "ignored",
          "traceback": [
            "\u001b[0;31m---------------------------------------------------------------------------\u001b[0m",
            "\u001b[0;31mNameError\u001b[0m                                 Traceback (most recent call last)",
            "\u001b[0;32m<ipython-input-12-c24df65ab543>\u001b[0m in \u001b[0;36m<module>\u001b[0;34m()\u001b[0m\n\u001b[1;32m      1\u001b[0m \u001b[0mget_ipython\u001b[0m\u001b[0;34m(\u001b[0m\u001b[0;34m)\u001b[0m\u001b[0;34m.\u001b[0m\u001b[0msystem\u001b[0m\u001b[0;34m(\u001b[0m\u001b[0;34m'pip install kaggle --upgrade'\u001b[0m\u001b[0;34m)\u001b[0m\u001b[0;34m\u001b[0m\u001b[0;34m\u001b[0m\u001b[0m\n\u001b[0;32m----> 2\u001b[0;31m \u001b[0mkaggle\u001b[0m \u001b[0;34m-\u001b[0m\u001b[0;34m-\u001b[0m\u001b[0mversion\u001b[0m\u001b[0;34m\u001b[0m\u001b[0;34m\u001b[0m\u001b[0m\n\u001b[0m",
            "\u001b[0;31mNameError\u001b[0m: name 'kaggle' is not defined"
          ]
        }
      ]
    },
    {
      "cell_type": "code",
      "metadata": {
        "id": "q-9AQqxN7RI3"
      },
      "source": [
        ""
      ],
      "id": "q-9AQqxN7RI3",
      "execution_count": null,
      "outputs": []
    }
  ]
}